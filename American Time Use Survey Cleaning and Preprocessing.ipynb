{
 "cells": [
  {
   "cell_type": "markdown",
   "metadata": {},
   "source": [
    "# American Time Use Survey Cleaning and Preprocessing\n",
    "\n",
    "## - Sheldon Sebastian\n",
    "\n",
    "This notebook is primarily for *cleaning and preprocessing* the American Time Use Survey (ATUS) Files. Due to limitations of github storage, the source data needs to be dowloaded from specified kaggle website and placed in folder named \"data\" in same directory of this Jupyter Notebook. \n",
    "\n",
    "### Source of Data:\n",
    "\n",
    "This data is downloaded from the following website: \n",
    "\n",
    "https://www.kaggle.com/bls/american-time-use-survey"
   ]
  },
  {
   "cell_type": "code",
   "execution_count": 2,
   "metadata": {},
   "outputs": [],
   "source": [
    "import pandas as pd\n",
    "import numpy as np"
   ]
  },
  {
   "cell_type": "markdown",
   "metadata": {},
   "source": [
    "**Respondent file:**\n",
    "\n",
    "The Respondent file contains information about ATUS respondents, including their labor force status and earnings."
   ]
  },
  {
   "cell_type": "code",
   "execution_count": 3,
   "metadata": {},
   "outputs": [],
   "source": [
    "respondentData = pd.read_csv(\n",
    "    \"data/atusresp.csv\",\n",
    "    usecols=[\"tucaseid\", \"telfs\", \"trmjind1\", \"tufnwgtp\",],\n",
    ")"
   ]
  },
  {
   "cell_type": "markdown",
   "metadata": {},
   "source": [
    "The first few records of respondent data looks like this:"
   ]
  },
  {
   "cell_type": "code",
   "execution_count": 4,
   "metadata": {},
   "outputs": [
    {
     "data": {
      "text/html": [
       "<div>\n",
       "<style scoped>\n",
       "    .dataframe tbody tr th:only-of-type {\n",
       "        vertical-align: middle;\n",
       "    }\n",
       "\n",
       "    .dataframe tbody tr th {\n",
       "        vertical-align: top;\n",
       "    }\n",
       "\n",
       "    .dataframe thead th {\n",
       "        text-align: right;\n",
       "    }\n",
       "</style>\n",
       "<table border=\"1\" class=\"dataframe\">\n",
       "  <thead>\n",
       "    <tr style=\"text-align: right;\">\n",
       "      <th></th>\n",
       "      <th>tucaseid</th>\n",
       "      <th>trmjind1</th>\n",
       "      <th>tufnwgtp</th>\n",
       "      <th>telfs</th>\n",
       "    </tr>\n",
       "  </thead>\n",
       "  <tbody>\n",
       "    <tr>\n",
       "      <th>0</th>\n",
       "      <td>20030100013280</td>\n",
       "      <td>10</td>\n",
       "      <td>8155463.0</td>\n",
       "      <td>2</td>\n",
       "    </tr>\n",
       "    <tr>\n",
       "      <th>1</th>\n",
       "      <td>20030100013344</td>\n",
       "      <td>4</td>\n",
       "      <td>1735323.0</td>\n",
       "      <td>1</td>\n",
       "    </tr>\n",
       "    <tr>\n",
       "      <th>2</th>\n",
       "      <td>20030100013352</td>\n",
       "      <td>10</td>\n",
       "      <td>3830528.0</td>\n",
       "      <td>2</td>\n",
       "    </tr>\n",
       "    <tr>\n",
       "      <th>3</th>\n",
       "      <td>20030100013848</td>\n",
       "      <td>-1</td>\n",
       "      <td>6622023.0</td>\n",
       "      <td>4</td>\n",
       "    </tr>\n",
       "    <tr>\n",
       "      <th>4</th>\n",
       "      <td>20030100014165</td>\n",
       "      <td>10</td>\n",
       "      <td>3068387.0</td>\n",
       "      <td>1</td>\n",
       "    </tr>\n",
       "  </tbody>\n",
       "</table>\n",
       "</div>"
      ],
      "text/plain": [
       "         tucaseid  trmjind1   tufnwgtp  telfs\n",
       "0  20030100013280        10  8155463.0      2\n",
       "1  20030100013344         4  1735323.0      1\n",
       "2  20030100013352        10  3830528.0      2\n",
       "3  20030100013848        -1  6622023.0      4\n",
       "4  20030100014165        10  3068387.0      1"
      ]
     },
     "execution_count": 4,
     "metadata": {},
     "output_type": "execute_result"
    }
   ],
   "source": [
    "respondentData.head()"
   ]
  },
  {
   "cell_type": "code",
   "execution_count": 5,
   "metadata": {},
   "outputs": [
    {
     "data": {
      "text/html": [
       "<div>\n",
       "<style scoped>\n",
       "    .dataframe tbody tr th:only-of-type {\n",
       "        vertical-align: middle;\n",
       "    }\n",
       "\n",
       "    .dataframe tbody tr th {\n",
       "        vertical-align: top;\n",
       "    }\n",
       "\n",
       "    .dataframe thead th {\n",
       "        text-align: right;\n",
       "    }\n",
       "</style>\n",
       "<table border=\"1\" class=\"dataframe\">\n",
       "  <thead>\n",
       "    <tr style=\"text-align: right;\">\n",
       "      <th></th>\n",
       "      <th>unique id</th>\n",
       "      <th>Generalized industry code</th>\n",
       "      <th>tufnwgtp</th>\n",
       "      <th>Respondent Labour Status</th>\n",
       "    </tr>\n",
       "  </thead>\n",
       "  <tbody>\n",
       "    <tr>\n",
       "      <th>0</th>\n",
       "      <td>20030100013280</td>\n",
       "      <td>Educational and health services</td>\n",
       "      <td>8155463.0</td>\n",
       "      <td>Employed</td>\n",
       "    </tr>\n",
       "    <tr>\n",
       "      <th>1</th>\n",
       "      <td>20030100013344</td>\n",
       "      <td>Manufacturing</td>\n",
       "      <td>1735323.0</td>\n",
       "      <td>Employed</td>\n",
       "    </tr>\n",
       "    <tr>\n",
       "      <th>2</th>\n",
       "      <td>20030100013352</td>\n",
       "      <td>Educational and health services</td>\n",
       "      <td>3830528.0</td>\n",
       "      <td>Employed</td>\n",
       "    </tr>\n",
       "    <tr>\n",
       "      <th>3</th>\n",
       "      <td>20030100013848</td>\n",
       "      <td>NaN</td>\n",
       "      <td>6622023.0</td>\n",
       "      <td>Unemployed</td>\n",
       "    </tr>\n",
       "    <tr>\n",
       "      <th>4</th>\n",
       "      <td>20030100014165</td>\n",
       "      <td>Educational and health services</td>\n",
       "      <td>3068387.0</td>\n",
       "      <td>Employed</td>\n",
       "    </tr>\n",
       "  </tbody>\n",
       "</table>\n",
       "</div>"
      ],
      "text/plain": [
       "        unique id        Generalized industry code   tufnwgtp  \\\n",
       "0  20030100013280  Educational and health services  8155463.0   \n",
       "1  20030100013344                    Manufacturing  1735323.0   \n",
       "2  20030100013352  Educational and health services  3830528.0   \n",
       "3  20030100013848                              NaN  6622023.0   \n",
       "4  20030100014165  Educational and health services  3068387.0   \n",
       "\n",
       "  Respondent Labour Status  \n",
       "0                 Employed  \n",
       "1                 Employed  \n",
       "2                 Employed  \n",
       "3               Unemployed  \n",
       "4                 Employed  "
      ]
     },
     "execution_count": 5,
     "metadata": {},
     "output_type": "execute_result"
    }
   ],
   "source": [
    "# unique id for esach respondent\n",
    "respondentData.rename({\"tucaseid\": \"unique id\"}, axis=1, inplace=True)\n",
    "\n",
    "# telfs is employment status of respondent\n",
    "# 1 Employed - at work\n",
    "# 2 Employed - absent\n",
    "# 3 Unemployed - on layoff\n",
    "# 4 Unemployed - looking\n",
    "# 5 Not in labor force\n",
    "respondentData.rename({\"telfs\": \"Respondent Labour Status\"}, axis=1, inplace=True)\n",
    "\n",
    "respondentData[\"Respondent Labour Status\"] = respondentData[\n",
    "    \"Respondent Labour Status\"\n",
    "].map({1: \"Employed\", 2: \"Employed\", 3: \"Unemployed\", 4: \"Unemployed\", 5: np.NaN})\n",
    "\n",
    "# trmjind1 is major industry code\n",
    "respondentData.rename({\"trmjind1\": \"Generalized industry code\"}, axis=1, inplace=True)\n",
    "\n",
    "respondentData[\"Generalized industry code\"] = respondentData[\n",
    "    \"Generalized industry code\"\n",
    "].map(\n",
    "    {\n",
    "        1: \"Agriculture, forestry, fishing, and hunting\",\n",
    "        2: \"Mining\",\n",
    "        3: \"Construction\",\n",
    "        4: \"Manufacturing\",\n",
    "        5: \"Wholesale and retail trade\",\n",
    "        6: \"Transportation and utilities\",\n",
    "        7: \"Information\",\n",
    "        8: \"Financial activities\",\n",
    "        9: \"Professional and business services\",\n",
    "        10: \"Educational and health services\",\n",
    "        11: \"Leisure and hospitality\",\n",
    "        12: \"Other services\",\n",
    "        13: \"Public administration\",\n",
    "    }\n",
    ")\n",
    "\n",
    "respondentData.head()"
   ]
  },
  {
   "cell_type": "markdown",
   "metadata": {},
   "source": [
    "**ATUS Weightage:**\n",
    "\n",
    "ATUS is based on a stratified random sample, whereby some demographic groups are oversampled to ensure adequate sample size for detailed estimates. The weights ensure that each group is correctly represented in the population. These weights have *already* been calculated and are found on the Respondent file, under the \"tufnwgtp\" column."
   ]
  },
  {
   "cell_type": "code",
   "execution_count": 6,
   "metadata": {},
   "outputs": [],
   "source": [
    "# tufnwgtp = ATUS weights\n",
    "respondentData.rename({\"tufnwgtp\": \"Weightage\"}, axis=1, inplace=True)"
   ]
  },
  {
   "cell_type": "markdown",
   "metadata": {},
   "source": [
    "Replace all -1 (missing values) with NaN"
   ]
  },
  {
   "cell_type": "code",
   "execution_count": 7,
   "metadata": {},
   "outputs": [],
   "source": [
    "respondentData = respondentData.replace(-1, np.NaN)"
   ]
  },
  {
   "cell_type": "markdown",
   "metadata": {},
   "source": [
    "After processing the respondentData looks like this:"
   ]
  },
  {
   "cell_type": "code",
   "execution_count": 8,
   "metadata": {},
   "outputs": [
    {
     "data": {
      "text/html": [
       "<div>\n",
       "<style scoped>\n",
       "    .dataframe tbody tr th:only-of-type {\n",
       "        vertical-align: middle;\n",
       "    }\n",
       "\n",
       "    .dataframe tbody tr th {\n",
       "        vertical-align: top;\n",
       "    }\n",
       "\n",
       "    .dataframe thead th {\n",
       "        text-align: right;\n",
       "    }\n",
       "</style>\n",
       "<table border=\"1\" class=\"dataframe\">\n",
       "  <thead>\n",
       "    <tr style=\"text-align: right;\">\n",
       "      <th></th>\n",
       "      <th>unique id</th>\n",
       "      <th>Generalized industry code</th>\n",
       "      <th>Weightage</th>\n",
       "      <th>Respondent Labour Status</th>\n",
       "    </tr>\n",
       "  </thead>\n",
       "  <tbody>\n",
       "    <tr>\n",
       "      <th>0</th>\n",
       "      <td>20030100013280</td>\n",
       "      <td>Educational and health services</td>\n",
       "      <td>8155463.0</td>\n",
       "      <td>Employed</td>\n",
       "    </tr>\n",
       "    <tr>\n",
       "      <th>1</th>\n",
       "      <td>20030100013344</td>\n",
       "      <td>Manufacturing</td>\n",
       "      <td>1735323.0</td>\n",
       "      <td>Employed</td>\n",
       "    </tr>\n",
       "    <tr>\n",
       "      <th>2</th>\n",
       "      <td>20030100013352</td>\n",
       "      <td>Educational and health services</td>\n",
       "      <td>3830528.0</td>\n",
       "      <td>Employed</td>\n",
       "    </tr>\n",
       "    <tr>\n",
       "      <th>3</th>\n",
       "      <td>20030100013848</td>\n",
       "      <td>NaN</td>\n",
       "      <td>6622023.0</td>\n",
       "      <td>Unemployed</td>\n",
       "    </tr>\n",
       "    <tr>\n",
       "      <th>4</th>\n",
       "      <td>20030100014165</td>\n",
       "      <td>Educational and health services</td>\n",
       "      <td>3068387.0</td>\n",
       "      <td>Employed</td>\n",
       "    </tr>\n",
       "  </tbody>\n",
       "</table>\n",
       "</div>"
      ],
      "text/plain": [
       "        unique id        Generalized industry code  Weightage  \\\n",
       "0  20030100013280  Educational and health services  8155463.0   \n",
       "1  20030100013344                    Manufacturing  1735323.0   \n",
       "2  20030100013352  Educational and health services  3830528.0   \n",
       "3  20030100013848                              NaN  6622023.0   \n",
       "4  20030100014165  Educational and health services  3068387.0   \n",
       "\n",
       "  Respondent Labour Status  \n",
       "0                 Employed  \n",
       "1                 Employed  \n",
       "2                 Employed  \n",
       "3               Unemployed  \n",
       "4                 Employed  "
      ]
     },
     "execution_count": 8,
     "metadata": {},
     "output_type": "execute_result"
    }
   ],
   "source": [
    "respondentData.head()"
   ]
  },
  {
   "cell_type": "markdown",
   "metadata": {},
   "source": [
    "-------------------\n",
    "**Roster file:**\n",
    "\n",
    "The Roster file contains information about household members and nonhousehold children (under 18) of ATUS respondents. It includes information such as age and sex."
   ]
  },
  {
   "cell_type": "code",
   "execution_count": 9,
   "metadata": {},
   "outputs": [],
   "source": [
    "rosterData = pd.read_csv(\"data/atusrost.csv\", usecols=[\"tucaseid\", \"terrp\", \"teage\"])"
   ]
  },
  {
   "cell_type": "markdown",
   "metadata": {},
   "source": [
    "The first few records of rosterData looks like this:"
   ]
  },
  {
   "cell_type": "code",
   "execution_count": 10,
   "metadata": {},
   "outputs": [
    {
     "data": {
      "text/html": [
       "<div>\n",
       "<style scoped>\n",
       "    .dataframe tbody tr th:only-of-type {\n",
       "        vertical-align: middle;\n",
       "    }\n",
       "\n",
       "    .dataframe tbody tr th {\n",
       "        vertical-align: top;\n",
       "    }\n",
       "\n",
       "    .dataframe thead th {\n",
       "        text-align: right;\n",
       "    }\n",
       "</style>\n",
       "<table border=\"1\" class=\"dataframe\">\n",
       "  <thead>\n",
       "    <tr style=\"text-align: right;\">\n",
       "      <th></th>\n",
       "      <th>tucaseid</th>\n",
       "      <th>terrp</th>\n",
       "      <th>teage</th>\n",
       "    </tr>\n",
       "  </thead>\n",
       "  <tbody>\n",
       "    <tr>\n",
       "      <th>0</th>\n",
       "      <td>20030100013280</td>\n",
       "      <td>18</td>\n",
       "      <td>60</td>\n",
       "    </tr>\n",
       "    <tr>\n",
       "      <th>1</th>\n",
       "      <td>20030100013280</td>\n",
       "      <td>20</td>\n",
       "      <td>72</td>\n",
       "    </tr>\n",
       "    <tr>\n",
       "      <th>2</th>\n",
       "      <td>20030100013280</td>\n",
       "      <td>22</td>\n",
       "      <td>37</td>\n",
       "    </tr>\n",
       "    <tr>\n",
       "      <th>3</th>\n",
       "      <td>20030100013344</td>\n",
       "      <td>18</td>\n",
       "      <td>41</td>\n",
       "    </tr>\n",
       "    <tr>\n",
       "      <th>4</th>\n",
       "      <td>20030100013344</td>\n",
       "      <td>20</td>\n",
       "      <td>42</td>\n",
       "    </tr>\n",
       "  </tbody>\n",
       "</table>\n",
       "</div>"
      ],
      "text/plain": [
       "         tucaseid  terrp  teage\n",
       "0  20030100013280     18     60\n",
       "1  20030100013280     20     72\n",
       "2  20030100013280     22     37\n",
       "3  20030100013344     18     41\n",
       "4  20030100013344     20     42"
      ]
     },
     "execution_count": 10,
     "metadata": {},
     "output_type": "execute_result"
    }
   ],
   "source": [
    "rosterData.head()"
   ]
  },
  {
   "cell_type": "code",
   "execution_count": 11,
   "metadata": {},
   "outputs": [],
   "source": [
    "# rename for ease of use\n",
    "rosterData.rename({\"tucaseid\": \"unique id\", \"teage\": \"Age\"}, axis=1, inplace=True)\n",
    "\n",
    "# terrp =  how is this person related to you?\n",
    "rosterData.rename({\"terrp\": \"Activity Partner\"}, axis=1, inplace=True)\n",
    "\n",
    "# replace numbers with actual values\n",
    "rosterData[\"Activity Partner\"] = rosterData[\"Activity Partner\"].map(\n",
    "    {\n",
    "        18: \"Self\",\n",
    "        19: \"Self\",\n",
    "        20: \"Spouse\",\n",
    "        21: \"Unmarried partner\",\n",
    "        22: \"Own household child\",\n",
    "        23: \"Grandchild\",\n",
    "        24: \"Parent\",\n",
    "        25: \"Brother/sister\",\n",
    "        26: \"Other relative\",\n",
    "        27: \"Foster child\",\n",
    "        28: \"Housemate/roommate\",\n",
    "        29: \"Roomer/boarder\",\n",
    "        30: \"Other nonrelative\",\n",
    "        40: \"Own nonhousehold child < 18\",\n",
    "    }\n",
    ")"
   ]
  },
  {
   "cell_type": "markdown",
   "metadata": {},
   "source": [
    "After processing the rosterData looks like this:"
   ]
  },
  {
   "cell_type": "code",
   "execution_count": 12,
   "metadata": {},
   "outputs": [
    {
     "data": {
      "text/html": [
       "<div>\n",
       "<style scoped>\n",
       "    .dataframe tbody tr th:only-of-type {\n",
       "        vertical-align: middle;\n",
       "    }\n",
       "\n",
       "    .dataframe tbody tr th {\n",
       "        vertical-align: top;\n",
       "    }\n",
       "\n",
       "    .dataframe thead th {\n",
       "        text-align: right;\n",
       "    }\n",
       "</style>\n",
       "<table border=\"1\" class=\"dataframe\">\n",
       "  <thead>\n",
       "    <tr style=\"text-align: right;\">\n",
       "      <th></th>\n",
       "      <th>unique id</th>\n",
       "      <th>Activity Partner</th>\n",
       "      <th>Age</th>\n",
       "    </tr>\n",
       "  </thead>\n",
       "  <tbody>\n",
       "    <tr>\n",
       "      <th>0</th>\n",
       "      <td>20030100013280</td>\n",
       "      <td>Self</td>\n",
       "      <td>60</td>\n",
       "    </tr>\n",
       "    <tr>\n",
       "      <th>1</th>\n",
       "      <td>20030100013280</td>\n",
       "      <td>Spouse</td>\n",
       "      <td>72</td>\n",
       "    </tr>\n",
       "    <tr>\n",
       "      <th>2</th>\n",
       "      <td>20030100013280</td>\n",
       "      <td>Own household child</td>\n",
       "      <td>37</td>\n",
       "    </tr>\n",
       "    <tr>\n",
       "      <th>3</th>\n",
       "      <td>20030100013344</td>\n",
       "      <td>Self</td>\n",
       "      <td>41</td>\n",
       "    </tr>\n",
       "    <tr>\n",
       "      <th>4</th>\n",
       "      <td>20030100013344</td>\n",
       "      <td>Spouse</td>\n",
       "      <td>42</td>\n",
       "    </tr>\n",
       "  </tbody>\n",
       "</table>\n",
       "</div>"
      ],
      "text/plain": [
       "        unique id     Activity Partner  Age\n",
       "0  20030100013280                 Self   60\n",
       "1  20030100013280               Spouse   72\n",
       "2  20030100013280  Own household child   37\n",
       "3  20030100013344                 Self   41\n",
       "4  20030100013344               Spouse   42"
      ]
     },
     "execution_count": 12,
     "metadata": {},
     "output_type": "execute_result"
    }
   ],
   "source": [
    "rosterData.head()"
   ]
  },
  {
   "cell_type": "markdown",
   "metadata": {},
   "source": [
    "----------------\n",
    "\n",
    "**Codes:**\n",
    "\n",
    "The codes file contains all the mapping of code to the action performed. \n",
    "\n",
    "The ATUS activity lexicon *dictionary* can be found at: https://www.bls.gov/tus/lexiconnoex0315.pdf"
   ]
  },
  {
   "cell_type": "code",
   "execution_count": 13,
   "metadata": {
    "scrolled": true
   },
   "outputs": [],
   "source": [
    "activityCodes = pd.read_csv(\"data/codes.csv\").set_index(\"code\")"
   ]
  },
  {
   "cell_type": "markdown",
   "metadata": {},
   "source": [
    "The first few rows of activityCodes looks like this:"
   ]
  },
  {
   "cell_type": "code",
   "execution_count": 14,
   "metadata": {},
   "outputs": [
    {
     "data": {
      "text/html": [
       "<div>\n",
       "<style scoped>\n",
       "    .dataframe tbody tr th:only-of-type {\n",
       "        vertical-align: middle;\n",
       "    }\n",
       "\n",
       "    .dataframe tbody tr th {\n",
       "        vertical-align: top;\n",
       "    }\n",
       "\n",
       "    .dataframe thead th {\n",
       "        text-align: right;\n",
       "    }\n",
       "</style>\n",
       "<table border=\"1\" class=\"dataframe\">\n",
       "  <thead>\n",
       "    <tr style=\"text-align: right;\">\n",
       "      <th></th>\n",
       "      <th>name</th>\n",
       "    </tr>\n",
       "    <tr>\n",
       "      <th>code</th>\n",
       "      <th></th>\n",
       "    </tr>\n",
       "  </thead>\n",
       "  <tbody>\n",
       "    <tr>\n",
       "      <th>1</th>\n",
       "      <td>Personal Care Activities</td>\n",
       "    </tr>\n",
       "    <tr>\n",
       "      <th>101</th>\n",
       "      <td>Sleeping</td>\n",
       "    </tr>\n",
       "    <tr>\n",
       "      <th>102</th>\n",
       "      <td>Grooming</td>\n",
       "    </tr>\n",
       "    <tr>\n",
       "      <th>103</th>\n",
       "      <td>Health-related self care</td>\n",
       "    </tr>\n",
       "    <tr>\n",
       "      <th>104</th>\n",
       "      <td>Personal Activities</td>\n",
       "    </tr>\n",
       "  </tbody>\n",
       "</table>\n",
       "</div>"
      ],
      "text/plain": [
       "                          name\n",
       "code                          \n",
       "1     Personal Care Activities\n",
       "101                   Sleeping\n",
       "102                   Grooming\n",
       "103   Health-related self care\n",
       "104        Personal Activities"
      ]
     },
     "execution_count": 14,
     "metadata": {},
     "output_type": "execute_result"
    }
   ],
   "source": [
    "activityCodes.head()"
   ]
  },
  {
   "cell_type": "markdown",
   "metadata": {},
   "source": [
    "We create a dictionary to easily map the code to activity in our ATUS dataframe."
   ]
  },
  {
   "cell_type": "code",
   "execution_count": 15,
   "metadata": {},
   "outputs": [],
   "source": [
    "# create a dictionary using\n",
    "activityDictionary = activityCodes.to_dict()[\"name\"]"
   ]
  },
  {
   "cell_type": "markdown",
   "metadata": {},
   "source": [
    "-----------------\n",
    "**Activity file:**\n",
    "\n",
    "The Activity file contains information about how ATUS respondents spent their diary day. It includes information such as activity codes, activity start and stop times, and locations."
   ]
  },
  {
   "cell_type": "code",
   "execution_count": 16,
   "metadata": {},
   "outputs": [],
   "source": [
    "activityData = pd.read_csv(\n",
    "    \"data/atusact.csv\",\n",
    "    usecols=[\"tucaseid\", \"tuactivity_n\", \"tuactdur24\", \"trtier1p\", \"tewhere\"],\n",
    ")"
   ]
  },
  {
   "cell_type": "markdown",
   "metadata": {},
   "source": [
    "First few rows of activityData looks like this:"
   ]
  },
  {
   "cell_type": "code",
   "execution_count": 17,
   "metadata": {},
   "outputs": [
    {
     "data": {
      "text/html": [
       "<div>\n",
       "<style scoped>\n",
       "    .dataframe tbody tr th:only-of-type {\n",
       "        vertical-align: middle;\n",
       "    }\n",
       "\n",
       "    .dataframe tbody tr th {\n",
       "        vertical-align: top;\n",
       "    }\n",
       "\n",
       "    .dataframe thead th {\n",
       "        text-align: right;\n",
       "    }\n",
       "</style>\n",
       "<table border=\"1\" class=\"dataframe\">\n",
       "  <thead>\n",
       "    <tr style=\"text-align: right;\">\n",
       "      <th></th>\n",
       "      <th>tucaseid</th>\n",
       "      <th>tuactivity_n</th>\n",
       "      <th>tuactdur24</th>\n",
       "      <th>trtier1p</th>\n",
       "      <th>tewhere</th>\n",
       "    </tr>\n",
       "  </thead>\n",
       "  <tbody>\n",
       "    <tr>\n",
       "      <th>0</th>\n",
       "      <td>20030100013280</td>\n",
       "      <td>1</td>\n",
       "      <td>60</td>\n",
       "      <td>13</td>\n",
       "      <td>9</td>\n",
       "    </tr>\n",
       "    <tr>\n",
       "      <th>1</th>\n",
       "      <td>20030100013280</td>\n",
       "      <td>2</td>\n",
       "      <td>30</td>\n",
       "      <td>1</td>\n",
       "      <td>-1</td>\n",
       "    </tr>\n",
       "    <tr>\n",
       "      <th>2</th>\n",
       "      <td>20030100013280</td>\n",
       "      <td>3</td>\n",
       "      <td>600</td>\n",
       "      <td>1</td>\n",
       "      <td>-1</td>\n",
       "    </tr>\n",
       "    <tr>\n",
       "      <th>3</th>\n",
       "      <td>20030100013280</td>\n",
       "      <td>4</td>\n",
       "      <td>150</td>\n",
       "      <td>12</td>\n",
       "      <td>1</td>\n",
       "    </tr>\n",
       "    <tr>\n",
       "      <th>4</th>\n",
       "      <td>20030100013280</td>\n",
       "      <td>5</td>\n",
       "      <td>5</td>\n",
       "      <td>11</td>\n",
       "      <td>1</td>\n",
       "    </tr>\n",
       "  </tbody>\n",
       "</table>\n",
       "</div>"
      ],
      "text/plain": [
       "         tucaseid  tuactivity_n  tuactdur24  trtier1p  tewhere\n",
       "0  20030100013280             1          60        13        9\n",
       "1  20030100013280             2          30         1       -1\n",
       "2  20030100013280             3         600         1       -1\n",
       "3  20030100013280             4         150        12        1\n",
       "4  20030100013280             5           5        11        1"
      ]
     },
     "execution_count": 17,
     "metadata": {},
     "output_type": "execute_result"
    }
   ],
   "source": [
    "activityData.head()"
   ]
  },
  {
   "cell_type": "code",
   "execution_count": 18,
   "metadata": {},
   "outputs": [],
   "source": [
    "# primary key\n",
    "activityData.rename({\"tucaseid\": \"unique id\"}, axis=1, inplace=True)\n",
    "\n",
    "# tuactivity_n = activity serial number for a particular respondent\n",
    "activityData.rename({\"tuactivity_n\": \"activity serial number\"}, axis=1, inplace=True)\n",
    "\n",
    "# tuactdur24 = Duration of activity in minutes\n",
    "activityData.rename({\"tuactdur24\": \"minutes of activity\"}, axis=1, inplace=True)\n",
    "\n",
    "# trtier1p = first 2 digits of activity\n",
    "activityData.rename(\n",
    "    {\"trtier1p\": \"Activity Category\"}, axis=1, inplace=True,\n",
    ")\n",
    "\n",
    "# convert the activity numeric code into string using the activityDictionary\n",
    "activityData[\"Activity Category\"] = activityData[\"Activity Category\"].map(\n",
    "    activityDictionary\n",
    ")\n",
    "\n",
    "# tewhere = where were you during the activity?\n",
    "activityData.rename({\"tewhere\": \"Location of activity\"}, axis=1, inplace=True)\n",
    "\n",
    "# convert location code to location values\n",
    "activityData[\"Location of activity\"] = activityData[\"Location of activity\"].map(\n",
    "    {\n",
    "        1: \"Respondent's home or yard\",\n",
    "        2: \"Respondent's workplace\",\n",
    "        3: \"Someone else's home\",\n",
    "        4: \"Restaurant or bar\",\n",
    "        5: \"Place of worship\",\n",
    "        6: \"Grocery store\",\n",
    "        7: \"Other store/mall\",\n",
    "        8: \"School\",\n",
    "        9: \"Outdoors away from home\",\n",
    "        10: \"Library\",\n",
    "        11: \"Other place\",\n",
    "        12: \"Car, truck, or motorcycle (driver)\",\n",
    "        13: \"Car, truck, or motorcycle (passenger)\",\n",
    "        14: \"Walking\",\n",
    "        15: \"Bus\",\n",
    "        16: \"Subway/train\",\n",
    "        17: \"Bicycle\",\n",
    "        18: \"Boat/ferry\",\n",
    "        19: \"Taxi/limousine service\",\n",
    "        20: \"Airplane\",\n",
    "        21: \"Other mode of transportation\",\n",
    "        30: \"Bank\",\n",
    "        31: \"Gym/health club\",\n",
    "        32: \"Post Office\",\n",
    "        89: \"Unspecified place\",\n",
    "        99: \"Unspecified mode of transportation\",\n",
    "    }\n",
    ")"
   ]
  },
  {
   "cell_type": "markdown",
   "metadata": {},
   "source": [
    "First few rows of processed activityData looks like this:"
   ]
  },
  {
   "cell_type": "code",
   "execution_count": 24,
   "metadata": {},
   "outputs": [
    {
     "data": {
      "text/html": [
       "<div>\n",
       "<style scoped>\n",
       "    .dataframe tbody tr th:only-of-type {\n",
       "        vertical-align: middle;\n",
       "    }\n",
       "\n",
       "    .dataframe tbody tr th {\n",
       "        vertical-align: top;\n",
       "    }\n",
       "\n",
       "    .dataframe thead th {\n",
       "        text-align: right;\n",
       "    }\n",
       "</style>\n",
       "<table border=\"1\" class=\"dataframe\">\n",
       "  <thead>\n",
       "    <tr style=\"text-align: right;\">\n",
       "      <th></th>\n",
       "      <th>unique id</th>\n",
       "      <th>activity serial number</th>\n",
       "      <th>minutes of activity</th>\n",
       "      <th>Activity Category</th>\n",
       "      <th>Location of activity</th>\n",
       "    </tr>\n",
       "  </thead>\n",
       "  <tbody>\n",
       "    <tr>\n",
       "      <th>0</th>\n",
       "      <td>20030100013280</td>\n",
       "      <td>1</td>\n",
       "      <td>60</td>\n",
       "      <td>Sports, Exercise, &amp; Recreation</td>\n",
       "      <td>Outdoors away from home</td>\n",
       "    </tr>\n",
       "    <tr>\n",
       "      <th>1</th>\n",
       "      <td>20030100013280</td>\n",
       "      <td>2</td>\n",
       "      <td>30</td>\n",
       "      <td>Personal Care Activities</td>\n",
       "      <td>NaN</td>\n",
       "    </tr>\n",
       "    <tr>\n",
       "      <th>2</th>\n",
       "      <td>20030100013280</td>\n",
       "      <td>3</td>\n",
       "      <td>600</td>\n",
       "      <td>Personal Care Activities</td>\n",
       "      <td>NaN</td>\n",
       "    </tr>\n",
       "    <tr>\n",
       "      <th>3</th>\n",
       "      <td>20030100013280</td>\n",
       "      <td>4</td>\n",
       "      <td>150</td>\n",
       "      <td>Socializing, Relaxing, and Leisure</td>\n",
       "      <td>Respondent's home or yard</td>\n",
       "    </tr>\n",
       "    <tr>\n",
       "      <th>4</th>\n",
       "      <td>20030100013280</td>\n",
       "      <td>5</td>\n",
       "      <td>5</td>\n",
       "      <td>Eating and Drinking</td>\n",
       "      <td>Respondent's home or yard</td>\n",
       "    </tr>\n",
       "  </tbody>\n",
       "</table>\n",
       "</div>"
      ],
      "text/plain": [
       "        unique id  activity serial number  minutes of activity  \\\n",
       "0  20030100013280                       1                   60   \n",
       "1  20030100013280                       2                   30   \n",
       "2  20030100013280                       3                  600   \n",
       "3  20030100013280                       4                  150   \n",
       "4  20030100013280                       5                    5   \n",
       "\n",
       "                    Activity Category       Location of activity  \n",
       "0      Sports, Exercise, & Recreation    Outdoors away from home  \n",
       "1            Personal Care Activities                        NaN  \n",
       "2            Personal Care Activities                        NaN  \n",
       "3  Socializing, Relaxing, and Leisure  Respondent's home or yard  \n",
       "4                 Eating and Drinking  Respondent's home or yard  "
      ]
     },
     "execution_count": 24,
     "metadata": {},
     "output_type": "execute_result"
    }
   ],
   "source": [
    "activityData.head()"
   ]
  },
  {
   "cell_type": "markdown",
   "metadata": {},
   "source": [
    "-----------------\n",
    "**CPS 2003-2015 file:**\n",
    "\n",
    "The ATUS-CPS file contains information about each household member of all individuals selected to participate in ATUS. The information on the ATUS-CPS file was collected 2 to 5 months before the ATUS interview."
   ]
  },
  {
   "cell_type": "code",
   "execution_count": 25,
   "metadata": {},
   "outputs": [],
   "source": [
    "currentPopulationSurvey = pd.read_csv(\n",
    "    \"data/atuscps.csv\",\n",
    "    usecols=[\"tucaseid\", \"hufaminc\", \"pemaritl\", \"pesex\"],\n",
    "    low_memory=False,\n",
    ")\n",
    "\n",
    "# tucaseid or primary key\n",
    "currentPopulationSurvey.rename({\"tucaseid\": \"unique id\"}, inplace=True, axis=1)\n",
    "\n",
    "# hufaminc = Family income\n",
    "# The combined income of all family members during the last 12 months\n",
    "currentPopulationSurvey.rename(\n",
    "    {\"hufaminc\": \"Yearly Family income category (in dollars)\"}, inplace=True, axis=1\n",
    ")\n",
    "# convert the family income code into categorical values\n",
    "currentPopulationSurvey[\n",
    "    \"Yearly Family income category (in dollars)\"\n",
    "] = currentPopulationSurvey[\"Yearly Family income category (in dollars)\"].map(\n",
    "    {\n",
    "        1: \"Less than 10,000\",\n",
    "        2: \"Less than 10,000\",\n",
    "        3: \"Less than 10,000\",\n",
    "        4: \"10,000 to 24,999\",\n",
    "        5: \"10,000 to 24,999\",\n",
    "        6: \"10,000 to 24,999\",\n",
    "        7: \"10,000 to 24,999\",\n",
    "        8: \"25,000 to 49,999\",\n",
    "        9: \"25,000 to 49,999\",\n",
    "        10: \"25,000 to 49,999\",\n",
    "        11: \"25,000 to 49,999\",\n",
    "        12: \"50,000 to 99,999\",\n",
    "        13: \"50,000 to 99,999\",\n",
    "        14: \"50,000 to 99,999\",\n",
    "        15: \"100,000 to 149,999\",\n",
    "        16: \"150,000 and over\",\n",
    "    }\n",
    ")\n",
    "\n",
    "# pemaritl= marriage status\n",
    "currentPopulationSurvey.rename({\"pemaritl\": \"Marriage Status\"}, inplace=True, axis=1)\n",
    "currentPopulationSurvey[\"Marriage Status\"] = currentPopulationSurvey[\n",
    "    \"Marriage Status\"\n",
    "].map(\n",
    "    {\n",
    "        1: \"Married\",\n",
    "        2: \"Married\",\n",
    "        3: \"Widowed\",\n",
    "        4: \"Divorced\",\n",
    "        5: \"Separated\",\n",
    "        6: \"Never married\",\n",
    "    }\n",
    ")\n",
    "\n",
    "# pesex = Sex\n",
    "# 1 Male\n",
    "# 2 Female\n",
    "currentPopulationSurvey.rename({\"pesex\": \"Sex\"}, inplace=True, axis=1)\n",
    "\n",
    "currentPopulationSurvey[\"Sex\"] = currentPopulationSurvey[\"Sex\"].map(\n",
    "    {1: \"Male\", 2: \"Female\"}\n",
    ")"
   ]
  },
  {
   "cell_type": "markdown",
   "metadata": {},
   "source": [
    "The CPS Files contains information about all the household family members, but we are **interested only in the respondent**, thus for each unique id, consider only the first row, since that is information about the respondent."
   ]
  },
  {
   "cell_type": "code",
   "execution_count": 26,
   "metadata": {},
   "outputs": [],
   "source": [
    "# interested only in respondent's data\n",
    "# respondent is the first entry per unique id\n",
    "currentPopulationSurvey.drop_duplicates(subset=\"unique id\", keep=\"first\", inplace=True)"
   ]
  },
  {
   "cell_type": "markdown",
   "metadata": {},
   "source": [
    "First few rows, after processing the currentPopulationSurvey data is as follows:"
   ]
  },
  {
   "cell_type": "code",
   "execution_count": 27,
   "metadata": {},
   "outputs": [
    {
     "data": {
      "text/html": [
       "<div>\n",
       "<style scoped>\n",
       "    .dataframe tbody tr th:only-of-type {\n",
       "        vertical-align: middle;\n",
       "    }\n",
       "\n",
       "    .dataframe tbody tr th {\n",
       "        vertical-align: top;\n",
       "    }\n",
       "\n",
       "    .dataframe thead th {\n",
       "        text-align: right;\n",
       "    }\n",
       "</style>\n",
       "<table border=\"1\" class=\"dataframe\">\n",
       "  <thead>\n",
       "    <tr style=\"text-align: right;\">\n",
       "      <th></th>\n",
       "      <th>unique id</th>\n",
       "      <th>Yearly Family income category (in dollars)</th>\n",
       "      <th>Marriage Status</th>\n",
       "      <th>Sex</th>\n",
       "    </tr>\n",
       "  </thead>\n",
       "  <tbody>\n",
       "    <tr>\n",
       "      <th>0</th>\n",
       "      <td>20030100013007</td>\n",
       "      <td>Less than 10,000</td>\n",
       "      <td>Never married</td>\n",
       "      <td>Female</td>\n",
       "    </tr>\n",
       "    <tr>\n",
       "      <th>2</th>\n",
       "      <td>20030100013013</td>\n",
       "      <td>Less than 10,000</td>\n",
       "      <td>Never married</td>\n",
       "      <td>Male</td>\n",
       "    </tr>\n",
       "    <tr>\n",
       "      <th>3</th>\n",
       "      <td>20030100013014</td>\n",
       "      <td>50,000 to 99,999</td>\n",
       "      <td>Married</td>\n",
       "      <td>Male</td>\n",
       "    </tr>\n",
       "    <tr>\n",
       "      <th>7</th>\n",
       "      <td>20030100013017</td>\n",
       "      <td>10,000 to 24,999</td>\n",
       "      <td>Widowed</td>\n",
       "      <td>Female</td>\n",
       "    </tr>\n",
       "    <tr>\n",
       "      <th>8</th>\n",
       "      <td>20030100013030</td>\n",
       "      <td>25,000 to 49,999</td>\n",
       "      <td>Married</td>\n",
       "      <td>Female</td>\n",
       "    </tr>\n",
       "  </tbody>\n",
       "</table>\n",
       "</div>"
      ],
      "text/plain": [
       "        unique id Yearly Family income category (in dollars) Marriage Status  \\\n",
       "0  20030100013007                           Less than 10,000   Never married   \n",
       "2  20030100013013                           Less than 10,000   Never married   \n",
       "3  20030100013014                           50,000 to 99,999         Married   \n",
       "7  20030100013017                           10,000 to 24,999         Widowed   \n",
       "8  20030100013030                           25,000 to 49,999         Married   \n",
       "\n",
       "      Sex  \n",
       "0  Female  \n",
       "2    Male  \n",
       "3    Male  \n",
       "7  Female  \n",
       "8  Female  "
      ]
     },
     "execution_count": 27,
     "metadata": {},
     "output_type": "execute_result"
    }
   ],
   "source": [
    "currentPopulationSurvey.head()"
   ]
  },
  {
   "cell_type": "markdown",
   "metadata": {},
   "source": [
    "----------------\n",
    "**Who file:**\n",
    "\n",
    "The Who file includes codes that indicate who was present during each activity."
   ]
  },
  {
   "cell_type": "code",
   "execution_count": 28,
   "metadata": {},
   "outputs": [],
   "source": [
    "whoData = pd.read_csv(\n",
    "    \"data/atuswho.csv\", usecols=[\"tucaseid\", \"tuactivity_n\", \"tuwho_code\"]\n",
    ")\n",
    "\n",
    "# renaming the column headers\n",
    "whoData.rename(\n",
    "    {\n",
    "        \"tucaseid\": \"unique id\",\n",
    "        \"tuactivity_n\": \"activity serial number\", # serial number of activity for a respondent in a day\n",
    "        \"tuwho_code\": \"Activity Partner\",\n",
    "    },\n",
    "    axis=1,\n",
    "    inplace=True,\n",
    ")\n",
    "\n",
    "# converting the activity partner code into categorical values\n",
    "whoData[\"Activity Partner\"] = whoData[\"Activity Partner\"].map(\n",
    "    {\n",
    "        18: \"Alone\",\n",
    "        19: \"Alone\",\n",
    "        20: \"Spouse\",\n",
    "        21: \"Unmarried partner\",\n",
    "        22: \"Own household child\",\n",
    "        23: \"Grandchild\",\n",
    "        24: \"Parent\",\n",
    "        25: \"Brother/sister\",\n",
    "        26: \"Other related person\",\n",
    "        27: \"Foster child\",\n",
    "        28: \"Housemate/roommate\",\n",
    "        29: \"Roomer/boarder\",\n",
    "        30: \"Other nonrelative\",\n",
    "        40: \"Own nonhousehold child < 18\",\n",
    "        51: \"Parents (not living in household)\",\n",
    "        52: \"Other nonhousehold family members < 18\",\n",
    "        53: \"Other nonhousehold family members 18 and older (including parents-in-law)\",\n",
    "        54: \"Friends\",\n",
    "        55: \"Co-workers/colleagues/clients\",\n",
    "        56: \"Neighbors/acquaintances\",\n",
    "        57: \"Other nonhousehold children < 18\",\n",
    "        58: \"Other nonhousehold adults 18 and older\",\n",
    "        59: \"Boss or manager\",\n",
    "        60: \"People whom I supervise\",\n",
    "        61: \"Co-workers\",\n",
    "        62: \"Customers\",\n",
    "    }\n",
    ")"
   ]
  },
  {
   "cell_type": "markdown",
   "metadata": {},
   "source": [
    "First few rows, after processing the whoData is as follows:"
   ]
  },
  {
   "cell_type": "code",
   "execution_count": 29,
   "metadata": {},
   "outputs": [
    {
     "data": {
      "text/html": [
       "<div>\n",
       "<style scoped>\n",
       "    .dataframe tbody tr th:only-of-type {\n",
       "        vertical-align: middle;\n",
       "    }\n",
       "\n",
       "    .dataframe tbody tr th {\n",
       "        vertical-align: top;\n",
       "    }\n",
       "\n",
       "    .dataframe thead th {\n",
       "        text-align: right;\n",
       "    }\n",
       "</style>\n",
       "<table border=\"1\" class=\"dataframe\">\n",
       "  <thead>\n",
       "    <tr style=\"text-align: right;\">\n",
       "      <th></th>\n",
       "      <th>unique id</th>\n",
       "      <th>activity serial number</th>\n",
       "      <th>Activity Partner</th>\n",
       "    </tr>\n",
       "  </thead>\n",
       "  <tbody>\n",
       "    <tr>\n",
       "      <th>0</th>\n",
       "      <td>20030100013280</td>\n",
       "      <td>1</td>\n",
       "      <td>Alone</td>\n",
       "    </tr>\n",
       "    <tr>\n",
       "      <th>1</th>\n",
       "      <td>20030100013280</td>\n",
       "      <td>2</td>\n",
       "      <td>NaN</td>\n",
       "    </tr>\n",
       "    <tr>\n",
       "      <th>2</th>\n",
       "      <td>20030100013280</td>\n",
       "      <td>3</td>\n",
       "      <td>NaN</td>\n",
       "    </tr>\n",
       "    <tr>\n",
       "      <th>3</th>\n",
       "      <td>20030100013280</td>\n",
       "      <td>4</td>\n",
       "      <td>Alone</td>\n",
       "    </tr>\n",
       "    <tr>\n",
       "      <th>4</th>\n",
       "      <td>20030100013280</td>\n",
       "      <td>5</td>\n",
       "      <td>Spouse</td>\n",
       "    </tr>\n",
       "  </tbody>\n",
       "</table>\n",
       "</div>"
      ],
      "text/plain": [
       "        unique id  activity serial number Activity Partner\n",
       "0  20030100013280                       1            Alone\n",
       "1  20030100013280                       2              NaN\n",
       "2  20030100013280                       3              NaN\n",
       "3  20030100013280                       4            Alone\n",
       "4  20030100013280                       5           Spouse"
      ]
     },
     "execution_count": 29,
     "metadata": {},
     "output_type": "execute_result"
    }
   ],
   "source": [
    "whoData.head()"
   ]
  },
  {
   "cell_type": "markdown",
   "metadata": {},
   "source": [
    "---------------\n",
    "### Merging Multiple Files :\n",
    "\n",
    "We are going to merge multiple files into two final csv files, one contains *respondent information*, other contains information about the *activities performed by respondent*.\n",
    "\n",
    "#### 1. Respondent Data\n",
    "\n",
    "Combining Respondent Data from ATUS with CPS data using the unique id."
   ]
  },
  {
   "cell_type": "code",
   "execution_count": 30,
   "metadata": {},
   "outputs": [],
   "source": [
    "# respondent + cps data\n",
    "respondentCleanedData = respondentData.merge(currentPopulationSurvey, on=\"unique id\")"
   ]
  },
  {
   "cell_type": "markdown",
   "metadata": {},
   "source": [
    "Fetching only the age information about the respondent from Roster Data."
   ]
  },
  {
   "cell_type": "code",
   "execution_count": 31,
   "metadata": {},
   "outputs": [],
   "source": [
    "# age data from rosterData\n",
    "ageData = rosterData.loc[rosterData[\"Activity Partner\"] == \"Self\", [\"unique id\", \"Age\"]]"
   ]
  },
  {
   "cell_type": "markdown",
   "metadata": {},
   "source": [
    "Combine age data with respondent data, using unique id."
   ]
  },
  {
   "cell_type": "code",
   "execution_count": 32,
   "metadata": {},
   "outputs": [],
   "source": [
    "# add age to respondentCleanedData\n",
    "respondentCleanedData = respondentCleanedData.merge(ageData, on=\"unique id\")"
   ]
  },
  {
   "cell_type": "markdown",
   "metadata": {},
   "source": [
    "First few rows from final cleaned respondent data is as follows:"
   ]
  },
  {
   "cell_type": "code",
   "execution_count": 33,
   "metadata": {
    "scrolled": false
   },
   "outputs": [
    {
     "data": {
      "text/html": [
       "<div>\n",
       "<style scoped>\n",
       "    .dataframe tbody tr th:only-of-type {\n",
       "        vertical-align: middle;\n",
       "    }\n",
       "\n",
       "    .dataframe tbody tr th {\n",
       "        vertical-align: top;\n",
       "    }\n",
       "\n",
       "    .dataframe thead th {\n",
       "        text-align: right;\n",
       "    }\n",
       "</style>\n",
       "<table border=\"1\" class=\"dataframe\">\n",
       "  <thead>\n",
       "    <tr style=\"text-align: right;\">\n",
       "      <th></th>\n",
       "      <th>unique id</th>\n",
       "      <th>Generalized industry code</th>\n",
       "      <th>Weightage</th>\n",
       "      <th>Respondent Labour Status</th>\n",
       "      <th>Yearly Family income category (in dollars)</th>\n",
       "      <th>Marriage Status</th>\n",
       "      <th>Sex</th>\n",
       "      <th>Age</th>\n",
       "    </tr>\n",
       "  </thead>\n",
       "  <tbody>\n",
       "    <tr>\n",
       "      <th>0</th>\n",
       "      <td>20030100013280</td>\n",
       "      <td>Educational and health services</td>\n",
       "      <td>8155463.0</td>\n",
       "      <td>Employed</td>\n",
       "      <td>50,000 to 99,999</td>\n",
       "      <td>Married</td>\n",
       "      <td>Male</td>\n",
       "      <td>60</td>\n",
       "    </tr>\n",
       "    <tr>\n",
       "      <th>1</th>\n",
       "      <td>20030100013344</td>\n",
       "      <td>Manufacturing</td>\n",
       "      <td>1735323.0</td>\n",
       "      <td>Employed</td>\n",
       "      <td>NaN</td>\n",
       "      <td>Married</td>\n",
       "      <td>Female</td>\n",
       "      <td>41</td>\n",
       "    </tr>\n",
       "    <tr>\n",
       "      <th>2</th>\n",
       "      <td>20030100013352</td>\n",
       "      <td>Educational and health services</td>\n",
       "      <td>3830528.0</td>\n",
       "      <td>Employed</td>\n",
       "      <td>50,000 to 99,999</td>\n",
       "      <td>Married</td>\n",
       "      <td>Female</td>\n",
       "      <td>26</td>\n",
       "    </tr>\n",
       "    <tr>\n",
       "      <th>3</th>\n",
       "      <td>20030100013848</td>\n",
       "      <td>NaN</td>\n",
       "      <td>6622023.0</td>\n",
       "      <td>Unemployed</td>\n",
       "      <td>10,000 to 24,999</td>\n",
       "      <td>Married</td>\n",
       "      <td>Female</td>\n",
       "      <td>36</td>\n",
       "    </tr>\n",
       "    <tr>\n",
       "      <th>4</th>\n",
       "      <td>20030100014165</td>\n",
       "      <td>Educational and health services</td>\n",
       "      <td>3068387.0</td>\n",
       "      <td>Employed</td>\n",
       "      <td>50,000 to 99,999</td>\n",
       "      <td>Married</td>\n",
       "      <td>Male</td>\n",
       "      <td>51</td>\n",
       "    </tr>\n",
       "  </tbody>\n",
       "</table>\n",
       "</div>"
      ],
      "text/plain": [
       "        unique id        Generalized industry code  Weightage  \\\n",
       "0  20030100013280  Educational and health services  8155463.0   \n",
       "1  20030100013344                    Manufacturing  1735323.0   \n",
       "2  20030100013352  Educational and health services  3830528.0   \n",
       "3  20030100013848                              NaN  6622023.0   \n",
       "4  20030100014165  Educational and health services  3068387.0   \n",
       "\n",
       "  Respondent Labour Status Yearly Family income category (in dollars)  \\\n",
       "0                 Employed                           50,000 to 99,999   \n",
       "1                 Employed                                        NaN   \n",
       "2                 Employed                           50,000 to 99,999   \n",
       "3               Unemployed                           10,000 to 24,999   \n",
       "4                 Employed                           50,000 to 99,999   \n",
       "\n",
       "  Marriage Status     Sex  Age  \n",
       "0         Married    Male   60  \n",
       "1         Married  Female   41  \n",
       "2         Married  Female   26  \n",
       "3         Married  Female   36  \n",
       "4         Married    Male   51  "
      ]
     },
     "execution_count": 33,
     "metadata": {},
     "output_type": "execute_result"
    }
   ],
   "source": [
    "respondentCleanedData.head()"
   ]
  },
  {
   "cell_type": "markdown",
   "metadata": {},
   "source": [
    "Storing the cleaned respondent dataframe in csv file."
   ]
  },
  {
   "cell_type": "code",
   "execution_count": 34,
   "metadata": {},
   "outputs": [],
   "source": [
    "respondentCleanedData.to_csv(\"data/respondentDataCleaned.csv\", index=False)"
   ]
  },
  {
   "cell_type": "markdown",
   "metadata": {},
   "source": [
    "#### 2. Activity Data\n",
    "\n",
    "Combining activity data with who data to get information about who was with respondent when activity was being performed. The merge is done using unique id and activity serial number."
   ]
  },
  {
   "cell_type": "code",
   "execution_count": 35,
   "metadata": {},
   "outputs": [],
   "source": [
    "# activity + who\n",
    "activityDataCleaned = activityData.merge(\n",
    "    whoData, on=[\"unique id\", \"activity serial number\"]\n",
    ")"
   ]
  },
  {
   "cell_type": "markdown",
   "metadata": {},
   "source": [
    "Adding the weightage from respondent data, in the activity dataset."
   ]
  },
  {
   "cell_type": "code",
   "execution_count": 36,
   "metadata": {},
   "outputs": [],
   "source": [
    "# add weightage from respondent data\n",
    "activityDataCleaned = activityDataCleaned.merge(\n",
    "    respondentData[[\"unique id\", \"Weightage\"]], on=\"unique id\"\n",
    ")"
   ]
  },
  {
   "cell_type": "markdown",
   "metadata": {},
   "source": [
    "First few rows from final cleaned activity data is as follows:"
   ]
  },
  {
   "cell_type": "code",
   "execution_count": 37,
   "metadata": {},
   "outputs": [
    {
     "data": {
      "text/html": [
       "<div>\n",
       "<style scoped>\n",
       "    .dataframe tbody tr th:only-of-type {\n",
       "        vertical-align: middle;\n",
       "    }\n",
       "\n",
       "    .dataframe tbody tr th {\n",
       "        vertical-align: top;\n",
       "    }\n",
       "\n",
       "    .dataframe thead th {\n",
       "        text-align: right;\n",
       "    }\n",
       "</style>\n",
       "<table border=\"1\" class=\"dataframe\">\n",
       "  <thead>\n",
       "    <tr style=\"text-align: right;\">\n",
       "      <th></th>\n",
       "      <th>unique id</th>\n",
       "      <th>activity serial number</th>\n",
       "      <th>minutes of activity</th>\n",
       "      <th>Activity Category</th>\n",
       "      <th>Location of activity</th>\n",
       "      <th>Activity Partner</th>\n",
       "      <th>Weightage</th>\n",
       "    </tr>\n",
       "  </thead>\n",
       "  <tbody>\n",
       "    <tr>\n",
       "      <th>0</th>\n",
       "      <td>20030100013280</td>\n",
       "      <td>1</td>\n",
       "      <td>60</td>\n",
       "      <td>Sports, Exercise, &amp; Recreation</td>\n",
       "      <td>Outdoors away from home</td>\n",
       "      <td>Alone</td>\n",
       "      <td>8155463.0</td>\n",
       "    </tr>\n",
       "    <tr>\n",
       "      <th>1</th>\n",
       "      <td>20030100013280</td>\n",
       "      <td>2</td>\n",
       "      <td>30</td>\n",
       "      <td>Personal Care Activities</td>\n",
       "      <td>NaN</td>\n",
       "      <td>NaN</td>\n",
       "      <td>8155463.0</td>\n",
       "    </tr>\n",
       "    <tr>\n",
       "      <th>2</th>\n",
       "      <td>20030100013280</td>\n",
       "      <td>3</td>\n",
       "      <td>600</td>\n",
       "      <td>Personal Care Activities</td>\n",
       "      <td>NaN</td>\n",
       "      <td>NaN</td>\n",
       "      <td>8155463.0</td>\n",
       "    </tr>\n",
       "    <tr>\n",
       "      <th>3</th>\n",
       "      <td>20030100013280</td>\n",
       "      <td>4</td>\n",
       "      <td>150</td>\n",
       "      <td>Socializing, Relaxing, and Leisure</td>\n",
       "      <td>Respondent's home or yard</td>\n",
       "      <td>Alone</td>\n",
       "      <td>8155463.0</td>\n",
       "    </tr>\n",
       "    <tr>\n",
       "      <th>4</th>\n",
       "      <td>20030100013280</td>\n",
       "      <td>5</td>\n",
       "      <td>5</td>\n",
       "      <td>Eating and Drinking</td>\n",
       "      <td>Respondent's home or yard</td>\n",
       "      <td>Spouse</td>\n",
       "      <td>8155463.0</td>\n",
       "    </tr>\n",
       "  </tbody>\n",
       "</table>\n",
       "</div>"
      ],
      "text/plain": [
       "        unique id  activity serial number  minutes of activity  \\\n",
       "0  20030100013280                       1                   60   \n",
       "1  20030100013280                       2                   30   \n",
       "2  20030100013280                       3                  600   \n",
       "3  20030100013280                       4                  150   \n",
       "4  20030100013280                       5                    5   \n",
       "\n",
       "                    Activity Category       Location of activity  \\\n",
       "0      Sports, Exercise, & Recreation    Outdoors away from home   \n",
       "1            Personal Care Activities                        NaN   \n",
       "2            Personal Care Activities                        NaN   \n",
       "3  Socializing, Relaxing, and Leisure  Respondent's home or yard   \n",
       "4                 Eating and Drinking  Respondent's home or yard   \n",
       "\n",
       "  Activity Partner  Weightage  \n",
       "0            Alone  8155463.0  \n",
       "1              NaN  8155463.0  \n",
       "2              NaN  8155463.0  \n",
       "3            Alone  8155463.0  \n",
       "4           Spouse  8155463.0  "
      ]
     },
     "execution_count": 37,
     "metadata": {},
     "output_type": "execute_result"
    }
   ],
   "source": [
    "activityDataCleaned.head()"
   ]
  },
  {
   "cell_type": "markdown",
   "metadata": {},
   "source": [
    "Storing the cleaned activity dataframe in csv file."
   ]
  },
  {
   "cell_type": "code",
   "execution_count": 38,
   "metadata": {},
   "outputs": [],
   "source": [
    "activityDataCleaned.to_csv(\"data/activityDataCleaned.csv\", index=False)"
   ]
  },
  {
   "cell_type": "markdown",
   "metadata": {},
   "source": [
    "We now perform analysis, please refer **American Time Use Survey Analysis** Jupyter Notebook for more details."
   ]
  }
 ],
 "metadata": {
  "kernelspec": {
   "display_name": "Python 3",
   "language": "python",
   "name": "python3"
  },
  "language_info": {
   "codemirror_mode": {
    "name": "ipython",
    "version": 3
   },
   "file_extension": ".py",
   "mimetype": "text/x-python",
   "name": "python",
   "nbconvert_exporter": "python",
   "pygments_lexer": "ipython3",
   "version": "3.7.3"
  }
 },
 "nbformat": 4,
 "nbformat_minor": 2
}
